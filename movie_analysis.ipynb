{
 "cells": [
  {
   "cell_type": "markdown",
   "metadata": {},
   "source": [
    "# Microsoft Movie Analysis"
   ]
  },
  {
   "cell_type": "markdown",
   "metadata": {},
   "source": [
    "## Overview\n",
    "\n",
    "Microsoft wants to go into the film business but they lack experience in making films. To find out which movies they should make, analysis was performed on the IMDB database as well as data from the Box Office Mojo to come up with actionable insights using information such as ratings, number of votes as well as the domestic and foreign gross that can guide Microsoft to make an informed decision. The data showed that movie combinations of Action,Adventure,Sci-Fi and Adventure,Animation,Comedy do very well in both domestic and foreign markets. Action,Adenture,Sci-Fi movie combinations along with Action,Thriller and Adventure,Drama,Sci-Fi moves have the highest number of votes. Movies with a runtime of between 70-120 minutes recieved the highest ratings.\n",
    "\n",
    "Recommendations are for Microsoft to make movies with a combination of Action,Adventure,Sci-Fi or Adventure,Animation,Comedy. Microsoft can create sequels to the movies: Inception, The Dark Knight Rises and Interstellar. They should also make movies with a runtime of between 70-120 minutes long. Also movies incooperated with adventure tend to do well in the box office as well as with viewers."
   ]
  },
  {
   "cell_type": "markdown",
   "metadata": {},
   "source": [
    "## Business Problem\n",
    "Microsoft is going into the film business with the intention of building a profitable film studio. However, because they lack film making expertise, they want to know what kinds of movies are doing well at the box office right now. To do this, we need to look at which genres are performing well at the box office in terms of income generation and the preferences of the audience in respect to various genres.\n",
    "\n",
    "The answers to these questions are crucial since they will assist Microsoft in prioritizing which movies to make. Doing so will allow them to produce content that not only engages viewers but also boosts box office earnings."
   ]
  },
  {
   "cell_type": "markdown",
   "metadata": {},
   "source": [
    "## Data Understanding\n",
    "The data used for this project comes from IMDB (Internet Movie Database) which contains information about movies, ratings and industry members. Data was also used from the Box Office Mojo which provides information about the financial performance of movies, including box office revenue and other financial metrics."
   ]
  },
  {
   "cell_type": "code",
   "execution_count": 1,
   "metadata": {},
   "outputs": [],
   "source": [
    "#Importing the necessary packages\n",
    "import pandas as pd\n",
    "import matplotlib.pyplot as plt\n",
    "import seaborn as sns\n",
    "import numpy as np\n",
    "import sqlite3\n",
    "\n",
    "plt.style.use('seaborn')\n",
    "\n",
    "%matplotlib inline"
   ]
  },
  {
   "cell_type": "code",
   "execution_count": 2,
   "metadata": {},
   "outputs": [],
   "source": [
    "#Reading the datasets from the various locations\n",
    "bom_movie_gross = pd.read_csv('bom.movie_gross.csv')\n",
    "conn = sqlite3.connect('im.db') #im.db is a database\n",
    "#Getting the movie_basics table from the imdb database\n",
    "imdb_movie_basics = pd.read_sql(\"SELECT * from movie_basics;\",conn)\n",
    "#Getting the movie_ratings table from the imdb database\n",
    "imdb_movie_ratings = pd.read_sql(\"SELECT * from movie_ratings;\",conn)\n",
    "conn.close()"
   ]
  },
  {
   "cell_type": "code",
   "execution_count": 3,
   "metadata": {},
   "outputs": [
    {
     "data": {
      "text/html": [
       "<div>\n",
       "<style scoped>\n",
       "    .dataframe tbody tr th:only-of-type {\n",
       "        vertical-align: middle;\n",
       "    }\n",
       "\n",
       "    .dataframe tbody tr th {\n",
       "        vertical-align: top;\n",
       "    }\n",
       "\n",
       "    .dataframe thead th {\n",
       "        text-align: right;\n",
       "    }\n",
       "</style>\n",
       "<table border=\"1\" class=\"dataframe\">\n",
       "  <thead>\n",
       "    <tr style=\"text-align: right;\">\n",
       "      <th></th>\n",
       "      <th>title</th>\n",
       "      <th>studio</th>\n",
       "      <th>domestic_gross</th>\n",
       "      <th>foreign_gross</th>\n",
       "      <th>year</th>\n",
       "    </tr>\n",
       "  </thead>\n",
       "  <tbody>\n",
       "    <tr>\n",
       "      <th>0</th>\n",
       "      <td>Toy Story 3</td>\n",
       "      <td>BV</td>\n",
       "      <td>415000000.0</td>\n",
       "      <td>652000000</td>\n",
       "      <td>2010</td>\n",
       "    </tr>\n",
       "    <tr>\n",
       "      <th>1</th>\n",
       "      <td>Alice in Wonderland (2010)</td>\n",
       "      <td>BV</td>\n",
       "      <td>334200000.0</td>\n",
       "      <td>691300000</td>\n",
       "      <td>2010</td>\n",
       "    </tr>\n",
       "    <tr>\n",
       "      <th>2</th>\n",
       "      <td>Harry Potter and the Deathly Hallows Part 1</td>\n",
       "      <td>WB</td>\n",
       "      <td>296000000.0</td>\n",
       "      <td>664300000</td>\n",
       "      <td>2010</td>\n",
       "    </tr>\n",
       "    <tr>\n",
       "      <th>3</th>\n",
       "      <td>Inception</td>\n",
       "      <td>WB</td>\n",
       "      <td>292600000.0</td>\n",
       "      <td>535700000</td>\n",
       "      <td>2010</td>\n",
       "    </tr>\n",
       "    <tr>\n",
       "      <th>4</th>\n",
       "      <td>Shrek Forever After</td>\n",
       "      <td>P/DW</td>\n",
       "      <td>238700000.0</td>\n",
       "      <td>513900000</td>\n",
       "      <td>2010</td>\n",
       "    </tr>\n",
       "  </tbody>\n",
       "</table>\n",
       "</div>"
      ],
      "text/plain": [
       "                                         title studio  domestic_gross  \\\n",
       "0                                  Toy Story 3     BV     415000000.0   \n",
       "1                   Alice in Wonderland (2010)     BV     334200000.0   \n",
       "2  Harry Potter and the Deathly Hallows Part 1     WB     296000000.0   \n",
       "3                                    Inception     WB     292600000.0   \n",
       "4                          Shrek Forever After   P/DW     238700000.0   \n",
       "\n",
       "  foreign_gross  year  \n",
       "0     652000000  2010  \n",
       "1     691300000  2010  \n",
       "2     664300000  2010  \n",
       "3     535700000  2010  \n",
       "4     513900000  2010  "
      ]
     },
     "execution_count": 3,
     "metadata": {},
     "output_type": "execute_result"
    }
   ],
   "source": [
    "#Viewing the first 5 rows of the bom_movies_gross dataframe\n",
    "bom_movie_gross.head()"
   ]
  },
  {
   "cell_type": "code",
   "execution_count": 4,
   "metadata": {},
   "outputs": [
    {
     "name": "stdout",
     "output_type": "stream",
     "text": [
      "<class 'pandas.core.frame.DataFrame'>\n",
      "RangeIndex: 3387 entries, 0 to 3386\n",
      "Data columns (total 5 columns):\n",
      " #   Column          Non-Null Count  Dtype  \n",
      "---  ------          --------------  -----  \n",
      " 0   title           3387 non-null   object \n",
      " 1   studio          3382 non-null   object \n",
      " 2   domestic_gross  3359 non-null   float64\n",
      " 3   foreign_gross   2037 non-null   object \n",
      " 4   year            3387 non-null   int64  \n",
      "dtypes: float64(1), int64(1), object(3)\n",
      "memory usage: 132.4+ KB\n"
     ]
    }
   ],
   "source": [
    "#Checking the summary of the bom_movie_gross dataframe\n",
    "#Table has 5 columns and 3387 rows\n",
    "bom_movie_gross.info()"
   ]
  },
  {
   "cell_type": "code",
   "execution_count": 5,
   "metadata": {},
   "outputs": [
    {
     "data": {
      "text/html": [
       "<div>\n",
       "<style scoped>\n",
       "    .dataframe tbody tr th:only-of-type {\n",
       "        vertical-align: middle;\n",
       "    }\n",
       "\n",
       "    .dataframe tbody tr th {\n",
       "        vertical-align: top;\n",
       "    }\n",
       "\n",
       "    .dataframe thead th {\n",
       "        text-align: right;\n",
       "    }\n",
       "</style>\n",
       "<table border=\"1\" class=\"dataframe\">\n",
       "  <thead>\n",
       "    <tr style=\"text-align: right;\">\n",
       "      <th></th>\n",
       "      <th>movie_id</th>\n",
       "      <th>primary_title</th>\n",
       "      <th>original_title</th>\n",
       "      <th>start_year</th>\n",
       "      <th>runtime_minutes</th>\n",
       "      <th>genres</th>\n",
       "    </tr>\n",
       "  </thead>\n",
       "  <tbody>\n",
       "    <tr>\n",
       "      <th>0</th>\n",
       "      <td>tt0063540</td>\n",
       "      <td>Sunghursh</td>\n",
       "      <td>Sunghursh</td>\n",
       "      <td>2013</td>\n",
       "      <td>175.0</td>\n",
       "      <td>Action,Crime,Drama</td>\n",
       "    </tr>\n",
       "    <tr>\n",
       "      <th>1</th>\n",
       "      <td>tt0066787</td>\n",
       "      <td>One Day Before the Rainy Season</td>\n",
       "      <td>Ashad Ka Ek Din</td>\n",
       "      <td>2019</td>\n",
       "      <td>114.0</td>\n",
       "      <td>Biography,Drama</td>\n",
       "    </tr>\n",
       "    <tr>\n",
       "      <th>2</th>\n",
       "      <td>tt0069049</td>\n",
       "      <td>The Other Side of the Wind</td>\n",
       "      <td>The Other Side of the Wind</td>\n",
       "      <td>2018</td>\n",
       "      <td>122.0</td>\n",
       "      <td>Drama</td>\n",
       "    </tr>\n",
       "    <tr>\n",
       "      <th>3</th>\n",
       "      <td>tt0069204</td>\n",
       "      <td>Sabse Bada Sukh</td>\n",
       "      <td>Sabse Bada Sukh</td>\n",
       "      <td>2018</td>\n",
       "      <td>NaN</td>\n",
       "      <td>Comedy,Drama</td>\n",
       "    </tr>\n",
       "    <tr>\n",
       "      <th>4</th>\n",
       "      <td>tt0100275</td>\n",
       "      <td>The Wandering Soap Opera</td>\n",
       "      <td>La Telenovela Errante</td>\n",
       "      <td>2017</td>\n",
       "      <td>80.0</td>\n",
       "      <td>Comedy,Drama,Fantasy</td>\n",
       "    </tr>\n",
       "  </tbody>\n",
       "</table>\n",
       "</div>"
      ],
      "text/plain": [
       "    movie_id                    primary_title              original_title  \\\n",
       "0  tt0063540                        Sunghursh                   Sunghursh   \n",
       "1  tt0066787  One Day Before the Rainy Season             Ashad Ka Ek Din   \n",
       "2  tt0069049       The Other Side of the Wind  The Other Side of the Wind   \n",
       "3  tt0069204                  Sabse Bada Sukh             Sabse Bada Sukh   \n",
       "4  tt0100275         The Wandering Soap Opera       La Telenovela Errante   \n",
       "\n",
       "   start_year  runtime_minutes                genres  \n",
       "0        2013            175.0    Action,Crime,Drama  \n",
       "1        2019            114.0       Biography,Drama  \n",
       "2        2018            122.0                 Drama  \n",
       "3        2018              NaN          Comedy,Drama  \n",
       "4        2017             80.0  Comedy,Drama,Fantasy  "
      ]
     },
     "execution_count": 5,
     "metadata": {},
     "output_type": "execute_result"
    }
   ],
   "source": [
    "#Viewing the movie_basics dataframe\n",
    "imdb_movie_basics.head()"
   ]
  },
  {
   "cell_type": "code",
   "execution_count": 6,
   "metadata": {},
   "outputs": [
    {
     "name": "stdout",
     "output_type": "stream",
     "text": [
      "<class 'pandas.core.frame.DataFrame'>\n",
      "RangeIndex: 146144 entries, 0 to 146143\n",
      "Data columns (total 6 columns):\n",
      " #   Column           Non-Null Count   Dtype  \n",
      "---  ------           --------------   -----  \n",
      " 0   movie_id         146144 non-null  object \n",
      " 1   primary_title    146144 non-null  object \n",
      " 2   original_title   146123 non-null  object \n",
      " 3   start_year       146144 non-null  int64  \n",
      " 4   runtime_minutes  114405 non-null  float64\n",
      " 5   genres           140736 non-null  object \n",
      "dtypes: float64(1), int64(1), object(4)\n",
      "memory usage: 6.7+ MB\n"
     ]
    }
   ],
   "source": [
    "#Checking the summary of the dataframe\n",
    "#It contains 6 columns and 146144 rows\n",
    "imdb_movie_basics.info()"
   ]
  },
  {
   "cell_type": "code",
   "execution_count": 7,
   "metadata": {},
   "outputs": [
    {
     "data": {
      "text/html": [
       "<div>\n",
       "<style scoped>\n",
       "    .dataframe tbody tr th:only-of-type {\n",
       "        vertical-align: middle;\n",
       "    }\n",
       "\n",
       "    .dataframe tbody tr th {\n",
       "        vertical-align: top;\n",
       "    }\n",
       "\n",
       "    .dataframe thead th {\n",
       "        text-align: right;\n",
       "    }\n",
       "</style>\n",
       "<table border=\"1\" class=\"dataframe\">\n",
       "  <thead>\n",
       "    <tr style=\"text-align: right;\">\n",
       "      <th></th>\n",
       "      <th>movie_id</th>\n",
       "      <th>averagerating</th>\n",
       "      <th>numvotes</th>\n",
       "    </tr>\n",
       "  </thead>\n",
       "  <tbody>\n",
       "    <tr>\n",
       "      <th>0</th>\n",
       "      <td>tt10356526</td>\n",
       "      <td>8.3</td>\n",
       "      <td>31</td>\n",
       "    </tr>\n",
       "    <tr>\n",
       "      <th>1</th>\n",
       "      <td>tt10384606</td>\n",
       "      <td>8.9</td>\n",
       "      <td>559</td>\n",
       "    </tr>\n",
       "    <tr>\n",
       "      <th>2</th>\n",
       "      <td>tt1042974</td>\n",
       "      <td>6.4</td>\n",
       "      <td>20</td>\n",
       "    </tr>\n",
       "    <tr>\n",
       "      <th>3</th>\n",
       "      <td>tt1043726</td>\n",
       "      <td>4.2</td>\n",
       "      <td>50352</td>\n",
       "    </tr>\n",
       "    <tr>\n",
       "      <th>4</th>\n",
       "      <td>tt1060240</td>\n",
       "      <td>6.5</td>\n",
       "      <td>21</td>\n",
       "    </tr>\n",
       "  </tbody>\n",
       "</table>\n",
       "</div>"
      ],
      "text/plain": [
       "     movie_id  averagerating  numvotes\n",
       "0  tt10356526            8.3        31\n",
       "1  tt10384606            8.9       559\n",
       "2   tt1042974            6.4        20\n",
       "3   tt1043726            4.2     50352\n",
       "4   tt1060240            6.5        21"
      ]
     },
     "execution_count": 7,
     "metadata": {},
     "output_type": "execute_result"
    }
   ],
   "source": [
    "#Viewing the movie_ratings dataframe\n",
    "imdb_movie_ratings.head()"
   ]
  },
  {
   "cell_type": "code",
   "execution_count": 8,
   "metadata": {},
   "outputs": [
    {
     "name": "stdout",
     "output_type": "stream",
     "text": [
      "<class 'pandas.core.frame.DataFrame'>\n",
      "RangeIndex: 73856 entries, 0 to 73855\n",
      "Data columns (total 3 columns):\n",
      " #   Column         Non-Null Count  Dtype  \n",
      "---  ------         --------------  -----  \n",
      " 0   movie_id       73856 non-null  object \n",
      " 1   averagerating  73856 non-null  float64\n",
      " 2   numvotes       73856 non-null  int64  \n",
      "dtypes: float64(1), int64(1), object(1)\n",
      "memory usage: 1.7+ MB\n"
     ]
    }
   ],
   "source": [
    "#Checking the summary of the movie_ratings dataframe\n",
    "#It contains 3 columns and 73856 rows\n",
    "imdb_movie_ratings.info()"
   ]
  },
  {
   "cell_type": "markdown",
   "metadata": {},
   "source": [
    "## Data Preparation\n",
    "In order to prepare the data for analysis, we need to join the imdb_movie_basics and the imdb_movie_ratings data tables. We join them using the movie_id column that is common to both, and perform an inner join to get only the rows that match between the two tables.\n",
    "\n",
    "Once the join is performed, we join the bom_movie_gross table with the resulting table from the above to create the bom_imdb dataframe that contains information from both the IMDB data and the Box Office Mojo data. The resulting dataframe has both information about movies as well as their performance in the box office."
   ]
  },
  {
   "cell_type": "code",
   "execution_count": 9,
   "metadata": {},
   "outputs": [
    {
     "data": {
      "text/html": [
       "<div>\n",
       "<style scoped>\n",
       "    .dataframe tbody tr th:only-of-type {\n",
       "        vertical-align: middle;\n",
       "    }\n",
       "\n",
       "    .dataframe tbody tr th {\n",
       "        vertical-align: top;\n",
       "    }\n",
       "\n",
       "    .dataframe thead th {\n",
       "        text-align: right;\n",
       "    }\n",
       "</style>\n",
       "<table border=\"1\" class=\"dataframe\">\n",
       "  <thead>\n",
       "    <tr style=\"text-align: right;\">\n",
       "      <th></th>\n",
       "      <th>primary_title</th>\n",
       "      <th>original_title</th>\n",
       "      <th>start_year</th>\n",
       "      <th>runtime_minutes</th>\n",
       "      <th>genres</th>\n",
       "      <th>averagerating</th>\n",
       "      <th>numvotes</th>\n",
       "    </tr>\n",
       "    <tr>\n",
       "      <th>movie_id</th>\n",
       "      <th></th>\n",
       "      <th></th>\n",
       "      <th></th>\n",
       "      <th></th>\n",
       "      <th></th>\n",
       "      <th></th>\n",
       "      <th></th>\n",
       "    </tr>\n",
       "  </thead>\n",
       "  <tbody>\n",
       "    <tr>\n",
       "      <th>tt0063540</th>\n",
       "      <td>Sunghursh</td>\n",
       "      <td>Sunghursh</td>\n",
       "      <td>2013</td>\n",
       "      <td>175.0</td>\n",
       "      <td>Action,Crime,Drama</td>\n",
       "      <td>7.0</td>\n",
       "      <td>77</td>\n",
       "    </tr>\n",
       "    <tr>\n",
       "      <th>tt0066787</th>\n",
       "      <td>One Day Before the Rainy Season</td>\n",
       "      <td>Ashad Ka Ek Din</td>\n",
       "      <td>2019</td>\n",
       "      <td>114.0</td>\n",
       "      <td>Biography,Drama</td>\n",
       "      <td>7.2</td>\n",
       "      <td>43</td>\n",
       "    </tr>\n",
       "    <tr>\n",
       "      <th>tt0069049</th>\n",
       "      <td>The Other Side of the Wind</td>\n",
       "      <td>The Other Side of the Wind</td>\n",
       "      <td>2018</td>\n",
       "      <td>122.0</td>\n",
       "      <td>Drama</td>\n",
       "      <td>6.9</td>\n",
       "      <td>4517</td>\n",
       "    </tr>\n",
       "    <tr>\n",
       "      <th>tt0069204</th>\n",
       "      <td>Sabse Bada Sukh</td>\n",
       "      <td>Sabse Bada Sukh</td>\n",
       "      <td>2018</td>\n",
       "      <td>NaN</td>\n",
       "      <td>Comedy,Drama</td>\n",
       "      <td>6.1</td>\n",
       "      <td>13</td>\n",
       "    </tr>\n",
       "    <tr>\n",
       "      <th>tt0100275</th>\n",
       "      <td>The Wandering Soap Opera</td>\n",
       "      <td>La Telenovela Errante</td>\n",
       "      <td>2017</td>\n",
       "      <td>80.0</td>\n",
       "      <td>Comedy,Drama,Fantasy</td>\n",
       "      <td>6.5</td>\n",
       "      <td>119</td>\n",
       "    </tr>\n",
       "  </tbody>\n",
       "</table>\n",
       "</div>"
      ],
      "text/plain": [
       "                             primary_title              original_title  \\\n",
       "movie_id                                                                 \n",
       "tt0063540                        Sunghursh                   Sunghursh   \n",
       "tt0066787  One Day Before the Rainy Season             Ashad Ka Ek Din   \n",
       "tt0069049       The Other Side of the Wind  The Other Side of the Wind   \n",
       "tt0069204                  Sabse Bada Sukh             Sabse Bada Sukh   \n",
       "tt0100275         The Wandering Soap Opera       La Telenovela Errante   \n",
       "\n",
       "           start_year  runtime_minutes                genres  averagerating  \\\n",
       "movie_id                                                                      \n",
       "tt0063540        2013            175.0    Action,Crime,Drama            7.0   \n",
       "tt0066787        2019            114.0       Biography,Drama            7.2   \n",
       "tt0069049        2018            122.0                 Drama            6.9   \n",
       "tt0069204        2018              NaN          Comedy,Drama            6.1   \n",
       "tt0100275        2017             80.0  Comedy,Drama,Fantasy            6.5   \n",
       "\n",
       "           numvotes  \n",
       "movie_id             \n",
       "tt0063540        77  \n",
       "tt0066787        43  \n",
       "tt0069049      4517  \n",
       "tt0069204        13  \n",
       "tt0100275       119  "
      ]
     },
     "execution_count": 9,
     "metadata": {},
     "output_type": "execute_result"
    }
   ],
   "source": [
    "#Joining the imdb data tables\n",
    "imdb_movie_basics.set_index('movie_id',inplace=True)\n",
    "imdb_movie_ratings.set_index('movie_id',inplace=True)\n",
    "imdb_movie_basic_ratings = imdb_movie_basics.join(imdb_movie_ratings,how='inner')\n",
    "imdb_movie_basic_ratings.head()"
   ]
  },
  {
   "cell_type": "code",
   "execution_count": 10,
   "metadata": {},
   "outputs": [
    {
     "data": {
      "text/html": [
       "<div>\n",
       "<style scoped>\n",
       "    .dataframe tbody tr th:only-of-type {\n",
       "        vertical-align: middle;\n",
       "    }\n",
       "\n",
       "    .dataframe tbody tr th {\n",
       "        vertical-align: top;\n",
       "    }\n",
       "\n",
       "    .dataframe thead th {\n",
       "        text-align: right;\n",
       "    }\n",
       "</style>\n",
       "<table border=\"1\" class=\"dataframe\">\n",
       "  <thead>\n",
       "    <tr style=\"text-align: right;\">\n",
       "      <th></th>\n",
       "      <th>studio</th>\n",
       "      <th>domestic_gross</th>\n",
       "      <th>foreign_gross</th>\n",
       "      <th>year</th>\n",
       "      <th>original_title</th>\n",
       "      <th>start_year</th>\n",
       "      <th>runtime_minutes</th>\n",
       "      <th>genres</th>\n",
       "      <th>averagerating</th>\n",
       "      <th>numvotes</th>\n",
       "    </tr>\n",
       "  </thead>\n",
       "  <tbody>\n",
       "    <tr>\n",
       "      <th>'71</th>\n",
       "      <td>RAtt.</td>\n",
       "      <td>1300000.0</td>\n",
       "      <td>355000</td>\n",
       "      <td>2015</td>\n",
       "      <td>'71</td>\n",
       "      <td>2014</td>\n",
       "      <td>99.0</td>\n",
       "      <td>Action,Drama,Thriller</td>\n",
       "      <td>7.2</td>\n",
       "      <td>46103</td>\n",
       "    </tr>\n",
       "    <tr>\n",
       "      <th>1,000 Times Good Night</th>\n",
       "      <td>FM</td>\n",
       "      <td>53900.0</td>\n",
       "      <td>NaN</td>\n",
       "      <td>2014</td>\n",
       "      <td>Tusen ganger god natt</td>\n",
       "      <td>2013</td>\n",
       "      <td>117.0</td>\n",
       "      <td>Drama,War</td>\n",
       "      <td>7.1</td>\n",
       "      <td>6848</td>\n",
       "    </tr>\n",
       "    <tr>\n",
       "      <th>10 Cloverfield Lane</th>\n",
       "      <td>Par.</td>\n",
       "      <td>72100000.0</td>\n",
       "      <td>38100000</td>\n",
       "      <td>2016</td>\n",
       "      <td>10 Cloverfield Lane</td>\n",
       "      <td>2016</td>\n",
       "      <td>103.0</td>\n",
       "      <td>Drama,Horror,Mystery</td>\n",
       "      <td>7.2</td>\n",
       "      <td>260383</td>\n",
       "    </tr>\n",
       "    <tr>\n",
       "      <th>10 Years</th>\n",
       "      <td>Anch.</td>\n",
       "      <td>203000.0</td>\n",
       "      <td>NaN</td>\n",
       "      <td>2012</td>\n",
       "      <td>10 Years</td>\n",
       "      <td>2011</td>\n",
       "      <td>100.0</td>\n",
       "      <td>Comedy,Drama,Romance</td>\n",
       "      <td>6.1</td>\n",
       "      <td>22484</td>\n",
       "    </tr>\n",
       "    <tr>\n",
       "      <th>1001 Grams</th>\n",
       "      <td>KL</td>\n",
       "      <td>11000.0</td>\n",
       "      <td>NaN</td>\n",
       "      <td>2015</td>\n",
       "      <td>1001 Gram</td>\n",
       "      <td>2014</td>\n",
       "      <td>93.0</td>\n",
       "      <td>Drama</td>\n",
       "      <td>6.3</td>\n",
       "      <td>1301</td>\n",
       "    </tr>\n",
       "  </tbody>\n",
       "</table>\n",
       "</div>"
      ],
      "text/plain": [
       "                       studio  domestic_gross foreign_gross  year  \\\n",
       "'71                     RAtt.       1300000.0        355000  2015   \n",
       "1,000 Times Good Night     FM         53900.0           NaN  2014   \n",
       "10 Cloverfield Lane      Par.      72100000.0      38100000  2016   \n",
       "10 Years                Anch.        203000.0           NaN  2012   \n",
       "1001 Grams                 KL         11000.0           NaN  2015   \n",
       "\n",
       "                               original_title  start_year  runtime_minutes  \\\n",
       "'71                                       '71        2014             99.0   \n",
       "1,000 Times Good Night  Tusen ganger god natt        2013            117.0   \n",
       "10 Cloverfield Lane       10 Cloverfield Lane        2016            103.0   \n",
       "10 Years                             10 Years        2011            100.0   \n",
       "1001 Grams                          1001 Gram        2014             93.0   \n",
       "\n",
       "                                       genres  averagerating  numvotes  \n",
       "'71                     Action,Drama,Thriller            7.2     46103  \n",
       "1,000 Times Good Night              Drama,War            7.1      6848  \n",
       "10 Cloverfield Lane      Drama,Horror,Mystery            7.2    260383  \n",
       "10 Years                 Comedy,Drama,Romance            6.1     22484  \n",
       "1001 Grams                              Drama            6.3      1301  "
      ]
     },
     "execution_count": 10,
     "metadata": {},
     "output_type": "execute_result"
    }
   ],
   "source": [
    "#Joining the merged imdb tables with the bom_movie_gross table\n",
    "#Merged on title since it is the only common column\n",
    "bom_movie_gross.set_index('title',inplace=True)\n",
    "imdb_movie_basic_ratings.set_index('primary_title',inplace=True)\n",
    "bom_imdb = bom_movie_gross.join(imdb_movie_basic_ratings,how='inner')\n",
    "bom_imdb.head()"
   ]
  },
  {
   "cell_type": "code",
   "execution_count": 11,
   "metadata": {},
   "outputs": [
    {
     "data": {
      "text/html": [
       "<div>\n",
       "<style scoped>\n",
       "    .dataframe tbody tr th:only-of-type {\n",
       "        vertical-align: middle;\n",
       "    }\n",
       "\n",
       "    .dataframe tbody tr th {\n",
       "        vertical-align: top;\n",
       "    }\n",
       "\n",
       "    .dataframe thead th {\n",
       "        text-align: right;\n",
       "    }\n",
       "</style>\n",
       "<table border=\"1\" class=\"dataframe\">\n",
       "  <thead>\n",
       "    <tr style=\"text-align: right;\">\n",
       "      <th></th>\n",
       "      <th>primary_title</th>\n",
       "      <th>studio</th>\n",
       "      <th>domestic_gross</th>\n",
       "      <th>foreign_gross</th>\n",
       "      <th>year</th>\n",
       "      <th>original_title</th>\n",
       "      <th>start_year</th>\n",
       "      <th>runtime_minutes</th>\n",
       "      <th>genres</th>\n",
       "      <th>averagerating</th>\n",
       "      <th>numvotes</th>\n",
       "    </tr>\n",
       "  </thead>\n",
       "  <tbody>\n",
       "    <tr>\n",
       "      <th>0</th>\n",
       "      <td>'71</td>\n",
       "      <td>RAtt.</td>\n",
       "      <td>1300000.0</td>\n",
       "      <td>355000</td>\n",
       "      <td>2015</td>\n",
       "      <td>'71</td>\n",
       "      <td>2014</td>\n",
       "      <td>99.0</td>\n",
       "      <td>Action,Drama,Thriller</td>\n",
       "      <td>7.2</td>\n",
       "      <td>46103</td>\n",
       "    </tr>\n",
       "    <tr>\n",
       "      <th>1</th>\n",
       "      <td>1,000 Times Good Night</td>\n",
       "      <td>FM</td>\n",
       "      <td>53900.0</td>\n",
       "      <td>NaN</td>\n",
       "      <td>2014</td>\n",
       "      <td>Tusen ganger god natt</td>\n",
       "      <td>2013</td>\n",
       "      <td>117.0</td>\n",
       "      <td>Drama,War</td>\n",
       "      <td>7.1</td>\n",
       "      <td>6848</td>\n",
       "    </tr>\n",
       "    <tr>\n",
       "      <th>2</th>\n",
       "      <td>10 Cloverfield Lane</td>\n",
       "      <td>Par.</td>\n",
       "      <td>72100000.0</td>\n",
       "      <td>38100000</td>\n",
       "      <td>2016</td>\n",
       "      <td>10 Cloverfield Lane</td>\n",
       "      <td>2016</td>\n",
       "      <td>103.0</td>\n",
       "      <td>Drama,Horror,Mystery</td>\n",
       "      <td>7.2</td>\n",
       "      <td>260383</td>\n",
       "    </tr>\n",
       "    <tr>\n",
       "      <th>3</th>\n",
       "      <td>10 Years</td>\n",
       "      <td>Anch.</td>\n",
       "      <td>203000.0</td>\n",
       "      <td>NaN</td>\n",
       "      <td>2012</td>\n",
       "      <td>10 Years</td>\n",
       "      <td>2011</td>\n",
       "      <td>100.0</td>\n",
       "      <td>Comedy,Drama,Romance</td>\n",
       "      <td>6.1</td>\n",
       "      <td>22484</td>\n",
       "    </tr>\n",
       "    <tr>\n",
       "      <th>4</th>\n",
       "      <td>1001 Grams</td>\n",
       "      <td>KL</td>\n",
       "      <td>11000.0</td>\n",
       "      <td>NaN</td>\n",
       "      <td>2015</td>\n",
       "      <td>1001 Gram</td>\n",
       "      <td>2014</td>\n",
       "      <td>93.0</td>\n",
       "      <td>Drama</td>\n",
       "      <td>6.3</td>\n",
       "      <td>1301</td>\n",
       "    </tr>\n",
       "  </tbody>\n",
       "</table>\n",
       "</div>"
      ],
      "text/plain": [
       "            primary_title studio  domestic_gross foreign_gross  year  \\\n",
       "0                     '71  RAtt.       1300000.0        355000  2015   \n",
       "1  1,000 Times Good Night     FM         53900.0           NaN  2014   \n",
       "2     10 Cloverfield Lane   Par.      72100000.0      38100000  2016   \n",
       "3                10 Years  Anch.        203000.0           NaN  2012   \n",
       "4              1001 Grams     KL         11000.0           NaN  2015   \n",
       "\n",
       "          original_title  start_year  runtime_minutes                 genres  \\\n",
       "0                    '71        2014             99.0  Action,Drama,Thriller   \n",
       "1  Tusen ganger god natt        2013            117.0              Drama,War   \n",
       "2    10 Cloverfield Lane        2016            103.0   Drama,Horror,Mystery   \n",
       "3               10 Years        2011            100.0   Comedy,Drama,Romance   \n",
       "4              1001 Gram        2014             93.0                  Drama   \n",
       "\n",
       "   averagerating  numvotes  \n",
       "0            7.2     46103  \n",
       "1            7.1      6848  \n",
       "2            7.2    260383  \n",
       "3            6.1     22484  \n",
       "4            6.3      1301  "
      ]
     },
     "execution_count": 11,
     "metadata": {},
     "output_type": "execute_result"
    }
   ],
   "source": [
    "#Reseting the index of the bom_imdb dataframe\n",
    "bom_imdb = bom_imdb.reset_index()\n",
    "bom_imdb = bom_imdb.rename(columns={'index':'primary_title'})\n",
    "bom_imdb.head()"
   ]
  },
  {
   "cell_type": "markdown",
   "metadata": {},
   "source": [
    "### Data Cleaning\n",
    "In this section, the dataframe was checked for null values. Since null values in the foreign_gross column were almost half the total values in the column, the values were filled with the median since it has a reduced impact on analysis, and is least sensitive to outliers. Any resulting null values in the dataframe were deleted. We also checked for duplicate values that were not present.\n",
    "\n",
    "Since the foreign_gross column is represented as a string, it was converted to a float value as well as the numvotes column which is an int to a column representing float values. The domestic_gross and foreign_gross columns were renamed to domestic_gross_in_million_$ and foreign_gross_in_million_$ in order to represent those columns better.\n",
    "\n",
    "Lastly, the studio, domestic_gross, foreign_gross, original_title, year, start_year were dropped since they are not important to the analysis and since the domestic_gross and foreign_gross columns are duplicates of the columns changed above."
   ]
  },
  {
   "cell_type": "code",
   "execution_count": 12,
   "metadata": {},
   "outputs": [
    {
     "name": "stdout",
     "output_type": "stream",
     "text": [
      "<class 'pandas.core.frame.DataFrame'>\n",
      "RangeIndex: 3027 entries, 0 to 3026\n",
      "Data columns (total 11 columns):\n",
      " #   Column           Non-Null Count  Dtype  \n",
      "---  ------           --------------  -----  \n",
      " 0   primary_title    3027 non-null   object \n",
      " 1   studio           3024 non-null   object \n",
      " 2   domestic_gross   3005 non-null   float64\n",
      " 3   foreign_gross    1832 non-null   object \n",
      " 4   year             3027 non-null   int64  \n",
      " 5   original_title   3027 non-null   object \n",
      " 6   start_year       3027 non-null   int64  \n",
      " 7   runtime_minutes  2980 non-null   float64\n",
      " 8   genres           3020 non-null   object \n",
      " 9   averagerating    3027 non-null   float64\n",
      " 10  numvotes         3027 non-null   int64  \n",
      "dtypes: float64(3), int64(3), object(5)\n",
      "memory usage: 260.3+ KB\n"
     ]
    }
   ],
   "source": [
    "#The resulting dataframe contains 11 columns and 3027 rows\n",
    "bom_imdb.info()"
   ]
  },
  {
   "cell_type": "code",
   "execution_count": 13,
   "metadata": {},
   "outputs": [
    {
     "data": {
      "text/plain": [
       "primary_title         0\n",
       "studio                3\n",
       "domestic_gross       22\n",
       "foreign_gross      1195\n",
       "year                  0\n",
       "original_title        0\n",
       "start_year            0\n",
       "runtime_minutes      47\n",
       "genres                7\n",
       "averagerating         0\n",
       "numvotes              0\n",
       "dtype: int64"
      ]
     },
     "execution_count": 13,
     "metadata": {},
     "output_type": "execute_result"
    }
   ],
   "source": [
    "#Checking missing or null values\n",
    "bom_imdb.isnull().sum()"
   ]
  },
  {
   "cell_type": "code",
   "execution_count": 14,
   "metadata": {},
   "outputs": [
    {
     "data": {
      "text/plain": [
       "0"
      ]
     },
     "execution_count": 14,
     "metadata": {},
     "output_type": "execute_result"
    }
   ],
   "source": [
    "#Checking duplicate values\n",
    "bom_imdb.duplicated().sum()"
   ]
  },
  {
   "cell_type": "code",
   "execution_count": 15,
   "metadata": {},
   "outputs": [],
   "source": [
    "#Since missing values in foreign_gross are almost more than half we replace with median\n",
    "#Change the column to float\n",
    "bom_imdb['foreign_gross'] = bom_imdb['foreign_gross'].str.replace(',', '').astype(float)\n",
    "bom_imdb['foreign_gross'] = bom_imdb['foreign_gross'].fillna(bom_imdb['foreign_gross'].median())"
   ]
  },
  {
   "cell_type": "code",
   "execution_count": 16,
   "metadata": {},
   "outputs": [
    {
     "data": {
      "text/plain": [
       "primary_title       0\n",
       "studio              3\n",
       "domestic_gross     22\n",
       "foreign_gross       0\n",
       "year                0\n",
       "original_title      0\n",
       "start_year          0\n",
       "runtime_minutes    47\n",
       "genres              7\n",
       "averagerating       0\n",
       "numvotes            0\n",
       "dtype: int64"
      ]
     },
     "execution_count": 16,
     "metadata": {},
     "output_type": "execute_result"
    }
   ],
   "source": [
    "bom_imdb.isnull().sum()"
   ]
  },
  {
   "cell_type": "code",
   "execution_count": 17,
   "metadata": {},
   "outputs": [],
   "source": [
    "#Drop all the rows that still contain null values\n",
    "bom_imdb.dropna(axis=0, inplace =True)"
   ]
  },
  {
   "cell_type": "code",
   "execution_count": 18,
   "metadata": {},
   "outputs": [
    {
     "data": {
      "text/plain": [
       "primary_title      0\n",
       "studio             0\n",
       "domestic_gross     0\n",
       "foreign_gross      0\n",
       "year               0\n",
       "original_title     0\n",
       "start_year         0\n",
       "runtime_minutes    0\n",
       "genres             0\n",
       "averagerating      0\n",
       "numvotes           0\n",
       "dtype: int64"
      ]
     },
     "execution_count": 18,
     "metadata": {},
     "output_type": "execute_result"
    }
   ],
   "source": [
    "bom_imdb.isnull().sum()"
   ]
  },
  {
   "cell_type": "code",
   "execution_count": 19,
   "metadata": {},
   "outputs": [
    {
     "name": "stdout",
     "output_type": "stream",
     "text": [
      "<class 'pandas.core.frame.DataFrame'>\n",
      "Int64Index: 2952 entries, 0 to 3026\n",
      "Data columns (total 11 columns):\n",
      " #   Column           Non-Null Count  Dtype  \n",
      "---  ------           --------------  -----  \n",
      " 0   primary_title    2952 non-null   object \n",
      " 1   studio           2952 non-null   object \n",
      " 2   domestic_gross   2952 non-null   float64\n",
      " 3   foreign_gross    2952 non-null   float64\n",
      " 4   year             2952 non-null   int64  \n",
      " 5   original_title   2952 non-null   object \n",
      " 6   start_year       2952 non-null   int64  \n",
      " 7   runtime_minutes  2952 non-null   float64\n",
      " 8   genres           2952 non-null   object \n",
      " 9   averagerating    2952 non-null   float64\n",
      " 10  numvotes         2952 non-null   int64  \n",
      "dtypes: float64(4), int64(3), object(4)\n",
      "memory usage: 276.8+ KB\n"
     ]
    }
   ],
   "source": [
    "bom_imdb.info()"
   ]
  },
  {
   "cell_type": "code",
   "execution_count": 20,
   "metadata": {},
   "outputs": [],
   "source": [
    "#Renaming the domestic_gross and foreign_gross columns\n",
    "#Changed the datatype of the numvotes column\n",
    "bom_imdb['domestic_gross_in_million_$'] = bom_imdb['domestic_gross'] / 1e6\n",
    "bom_imdb['foreign_gross_in_million_$'] = bom_imdb['foreign_gross'] / 1e6\n",
    "bom_imdb['numvotes_thosands'] = bom_imdb['numvotes'] / 1e3\n",
    "bom_imdb['numvotes'] = bom_imdb['numvotes'].astype(float) "
   ]
  },
  {
   "cell_type": "code",
   "execution_count": 21,
   "metadata": {},
   "outputs": [
    {
     "data": {
      "text/html": [
       "<div>\n",
       "<style scoped>\n",
       "    .dataframe tbody tr th:only-of-type {\n",
       "        vertical-align: middle;\n",
       "    }\n",
       "\n",
       "    .dataframe tbody tr th {\n",
       "        vertical-align: top;\n",
       "    }\n",
       "\n",
       "    .dataframe thead th {\n",
       "        text-align: right;\n",
       "    }\n",
       "</style>\n",
       "<table border=\"1\" class=\"dataframe\">\n",
       "  <thead>\n",
       "    <tr style=\"text-align: right;\">\n",
       "      <th></th>\n",
       "      <th>primary_title</th>\n",
       "      <th>runtime_minutes</th>\n",
       "      <th>genres</th>\n",
       "      <th>averagerating</th>\n",
       "      <th>domestic_gross_in_million_$</th>\n",
       "      <th>foreign_gross_in_million_$</th>\n",
       "      <th>numvotes_thosands</th>\n",
       "    </tr>\n",
       "  </thead>\n",
       "  <tbody>\n",
       "    <tr>\n",
       "      <th>0</th>\n",
       "      <td>'71</td>\n",
       "      <td>99.0</td>\n",
       "      <td>Action,Drama,Thriller</td>\n",
       "      <td>7.2</td>\n",
       "      <td>1.3000</td>\n",
       "      <td>0.355</td>\n",
       "      <td>46.103</td>\n",
       "    </tr>\n",
       "    <tr>\n",
       "      <th>1</th>\n",
       "      <td>1,000 Times Good Night</td>\n",
       "      <td>117.0</td>\n",
       "      <td>Drama,War</td>\n",
       "      <td>7.1</td>\n",
       "      <td>0.0539</td>\n",
       "      <td>21.200</td>\n",
       "      <td>6.848</td>\n",
       "    </tr>\n",
       "    <tr>\n",
       "      <th>2</th>\n",
       "      <td>10 Cloverfield Lane</td>\n",
       "      <td>103.0</td>\n",
       "      <td>Drama,Horror,Mystery</td>\n",
       "      <td>7.2</td>\n",
       "      <td>72.1000</td>\n",
       "      <td>38.100</td>\n",
       "      <td>260.383</td>\n",
       "    </tr>\n",
       "    <tr>\n",
       "      <th>3</th>\n",
       "      <td>10 Years</td>\n",
       "      <td>100.0</td>\n",
       "      <td>Comedy,Drama,Romance</td>\n",
       "      <td>6.1</td>\n",
       "      <td>0.2030</td>\n",
       "      <td>21.200</td>\n",
       "      <td>22.484</td>\n",
       "    </tr>\n",
       "    <tr>\n",
       "      <th>4</th>\n",
       "      <td>1001 Grams</td>\n",
       "      <td>93.0</td>\n",
       "      <td>Drama</td>\n",
       "      <td>6.3</td>\n",
       "      <td>0.0110</td>\n",
       "      <td>21.200</td>\n",
       "      <td>1.301</td>\n",
       "    </tr>\n",
       "  </tbody>\n",
       "</table>\n",
       "</div>"
      ],
      "text/plain": [
       "            primary_title  runtime_minutes                 genres  \\\n",
       "0                     '71             99.0  Action,Drama,Thriller   \n",
       "1  1,000 Times Good Night            117.0              Drama,War   \n",
       "2     10 Cloverfield Lane            103.0   Drama,Horror,Mystery   \n",
       "3                10 Years            100.0   Comedy,Drama,Romance   \n",
       "4              1001 Grams             93.0                  Drama   \n",
       "\n",
       "   averagerating  domestic_gross_in_million_$  foreign_gross_in_million_$  \\\n",
       "0            7.2                       1.3000                       0.355   \n",
       "1            7.1                       0.0539                      21.200   \n",
       "2            7.2                      72.1000                      38.100   \n",
       "3            6.1                       0.2030                      21.200   \n",
       "4            6.3                       0.0110                      21.200   \n",
       "\n",
       "   numvotes_thosands  \n",
       "0             46.103  \n",
       "1              6.848  \n",
       "2            260.383  \n",
       "3             22.484  \n",
       "4              1.301  "
      ]
     },
     "execution_count": 21,
     "metadata": {},
     "output_type": "execute_result"
    }
   ],
   "source": [
    "bom_imdb.drop(labels=['studio','domestic_gross','foreign_gross','original_title','year','start_year','numvotes'], axis=1, inplace=True)\n",
    "bom_imdb.head()"
   ]
  },
  {
   "cell_type": "code",
   "execution_count": 22,
   "metadata": {},
   "outputs": [
    {
     "data": {
      "text/html": [
       "<div>\n",
       "<style scoped>\n",
       "    .dataframe tbody tr th:only-of-type {\n",
       "        vertical-align: middle;\n",
       "    }\n",
       "\n",
       "    .dataframe tbody tr th {\n",
       "        vertical-align: top;\n",
       "    }\n",
       "\n",
       "    .dataframe thead th {\n",
       "        text-align: right;\n",
       "    }\n",
       "</style>\n",
       "<table border=\"1\" class=\"dataframe\">\n",
       "  <thead>\n",
       "    <tr style=\"text-align: right;\">\n",
       "      <th></th>\n",
       "      <th>runtime_minutes</th>\n",
       "      <th>averagerating</th>\n",
       "      <th>domestic_gross_in_million_$</th>\n",
       "      <th>foreign_gross_in_million_$</th>\n",
       "      <th>numvotes_thosands</th>\n",
       "    </tr>\n",
       "  </thead>\n",
       "  <tbody>\n",
       "    <tr>\n",
       "      <th>count</th>\n",
       "      <td>2952.000000</td>\n",
       "      <td>2952.000000</td>\n",
       "      <td>2952.000000</td>\n",
       "      <td>2952.000000</td>\n",
       "      <td>2952.000000</td>\n",
       "    </tr>\n",
       "    <tr>\n",
       "      <th>mean</th>\n",
       "      <td>107.305894</td>\n",
       "      <td>6.464837</td>\n",
       "      <td>30.680274</td>\n",
       "      <td>56.154408</td>\n",
       "      <td>63.190740</td>\n",
       "    </tr>\n",
       "    <tr>\n",
       "      <th>std</th>\n",
       "      <td>20.043335</td>\n",
       "      <td>0.994953</td>\n",
       "      <td>67.089697</td>\n",
       "      <td>112.295519</td>\n",
       "      <td>126.736972</td>\n",
       "    </tr>\n",
       "    <tr>\n",
       "      <th>min</th>\n",
       "      <td>3.000000</td>\n",
       "      <td>1.600000</td>\n",
       "      <td>0.000100</td>\n",
       "      <td>0.000600</td>\n",
       "      <td>0.005000</td>\n",
       "    </tr>\n",
       "    <tr>\n",
       "      <th>25%</th>\n",
       "      <td>94.000000</td>\n",
       "      <td>5.900000</td>\n",
       "      <td>0.136750</td>\n",
       "      <td>14.050000</td>\n",
       "      <td>2.500500</td>\n",
       "    </tr>\n",
       "    <tr>\n",
       "      <th>50%</th>\n",
       "      <td>105.000000</td>\n",
       "      <td>6.600000</td>\n",
       "      <td>2.000000</td>\n",
       "      <td>21.200000</td>\n",
       "      <td>13.877500</td>\n",
       "    </tr>\n",
       "    <tr>\n",
       "      <th>75%</th>\n",
       "      <td>118.000000</td>\n",
       "      <td>7.100000</td>\n",
       "      <td>32.425000</td>\n",
       "      <td>34.450000</td>\n",
       "      <td>66.669500</td>\n",
       "    </tr>\n",
       "    <tr>\n",
       "      <th>max</th>\n",
       "      <td>272.000000</td>\n",
       "      <td>9.200000</td>\n",
       "      <td>700.100000</td>\n",
       "      <td>946.400000</td>\n",
       "      <td>1841.066000</td>\n",
       "    </tr>\n",
       "  </tbody>\n",
       "</table>\n",
       "</div>"
      ],
      "text/plain": [
       "       runtime_minutes  averagerating  domestic_gross_in_million_$  \\\n",
       "count      2952.000000    2952.000000                  2952.000000   \n",
       "mean        107.305894       6.464837                    30.680274   \n",
       "std          20.043335       0.994953                    67.089697   \n",
       "min           3.000000       1.600000                     0.000100   \n",
       "25%          94.000000       5.900000                     0.136750   \n",
       "50%         105.000000       6.600000                     2.000000   \n",
       "75%         118.000000       7.100000                    32.425000   \n",
       "max         272.000000       9.200000                   700.100000   \n",
       "\n",
       "       foreign_gross_in_million_$  numvotes_thosands  \n",
       "count                 2952.000000        2952.000000  \n",
       "mean                    56.154408          63.190740  \n",
       "std                    112.295519         126.736972  \n",
       "min                      0.000600           0.005000  \n",
       "25%                     14.050000           2.500500  \n",
       "50%                     21.200000          13.877500  \n",
       "75%                     34.450000          66.669500  \n",
       "max                    946.400000        1841.066000  "
      ]
     },
     "execution_count": 22,
     "metadata": {},
     "output_type": "execute_result"
    }
   ],
   "source": [
    "bom_imdb.describe()"
   ]
  },
  {
   "cell_type": "markdown",
   "metadata": {},
   "source": [
    "## Data Analysis\n",
    "To perform data analysis, we performed EDA (Exploratory Data Analysis) allowing us to look at different variables at a time and present them in visualizations. This will guide us on what recommendations and conclusions to make for the company."
   ]
  },
  {
   "cell_type": "code",
   "execution_count": 23,
   "metadata": {},
   "outputs": [
    {
     "name": "stdout",
     "output_type": "stream",
     "text": [
      "Categorical Variables:\n",
      "Index(['primary_title', 'genres'], dtype='object')\n",
      "Numerical Variables:\n",
      "['runtime_minutes', 'averagerating', 'domestic_gross_in_million_$', 'foreign_gross_in_million_$', 'numvotes_thosands']\n"
     ]
    }
   ],
   "source": [
    "#Get the categorical and numerical columns from the dataframe\n",
    "cat_cols= bom_imdb.select_dtypes(include=['object']).columns\n",
    "num_cols = bom_imdb.select_dtypes(include=np.number).columns.tolist()\n",
    "print(\"Categorical Variables:\")\n",
    "print(cat_cols)\n",
    "print(\"Numerical Variables:\")\n",
    "print(num_cols)"
   ]
  },
  {
   "cell_type": "code",
   "execution_count": 24,
   "metadata": {},
   "outputs": [
    {
     "name": "stdout",
     "output_type": "stream",
     "text": [
      "runtime_minutes\n",
      "Skew : 0.64\n"
     ]
    },
    {
     "data": {
      "image/png": "[encoded data removed]",
      "text/plain": [
       "<Figure size 720x288 with 2 Axes>"
      ]
     },
     "metadata": {
      "needs_background": "light"
     },
     "output_type": "display_data"
    },
    {
     "name": "stdout",
     "output_type": "stream",
     "text": [
      "averagerating\n",
      "Skew : -0.83\n"
     ]
    },
    {
     "data": {
      "image/png": "[encoded data removed]",
      "text/plain": [
       "<Figure size 720x288 with 2 Axes>"
      ]
     },
     "metadata": {
      "needs_background": "light"
     },
     "output_type": "display_data"
    },
    {
     "name": "stdout",
     "output_type": "stream",
     "text": [
      "domestic_gross_in_million_$\n",
      "Skew : 4.15\n"
     ]
    },
    {
     "data": {
      "image/png": "[encoded data removed]",
      "text/plain": [
       "<Figure size 720x288 with 2 Axes>"
      ]
     },
     "metadata": {
      "needs_background": "light"
     },
     "output_type": "display_data"
    },
    {
     "name": "stdout",
     "output_type": "stream",
     "text": [
      "foreign_gross_in_million_$\n",
      "Skew : 4.04\n"
     ]
    },
    {
     "data": {
      "image/png": "[encoded data removed]",
      "text/plain": [
       "<Figure size 720x288 with 2 Axes>"
      ]
     },
     "metadata": {
      "needs_background": "light"
     },
     "output_type": "display_data"
    },
    {
     "name": "stdout",
     "output_type": "stream",
     "text": [
      "numvotes_thosands\n",
      "Skew : 4.44\n"
     ]
    },
    {
     "data": {
      "image/png": "[encoded data removed]",
      "text/plain": [
       "<Figure size 720x288 with 2 Axes>"
      ]
     },
     "metadata": {
      "needs_background": "light"
     },
     "output_type": "display_data"
    }
   ],
   "source": [
    "#Plotting the numerical columns\n",
    "for col in num_cols:\n",
    "    print(col)\n",
    "    print('Skew :', round(bom_imdb[col].skew(), 2))\n",
    "    plt.figure(figsize = (10, 4))\n",
    "    plt.subplot(1, 2, 1)\n",
    "    plt.title('Histogram Plot')\n",
    "    bom_imdb[col].hist(grid=True,bins=25,rwidth=0.9)\n",
    "    plt.ylabel('count')\n",
    "    plt.subplot(1, 2, 2)\n",
    "    sns.boxplot(x=bom_imdb[col])\n",
    "    plt.title('Box Plot')\n",
    "    plt.show()\n",
    "    \n",
    "\n",
    "  "
   ]
  },
  {
   "cell_type": "markdown",
   "metadata": {},
   "source": [
    "The above plots allow us to look at the data from the numerical columns. The results:\n",
    "- Majority of the movies have a runtime of about 80-120 minutes with outliers of movies below 50 minutes and above 150 minutes.\n",
    "- Majority of the ratings are between 6-8 with outliers below 4 and some above 8. The max rating is 9.2.\n",
    "- Majority of the votes are between 0-200000 votes.\n",
    "- Majority of the domestic gross is between 0-50 million with outliers above 80 million.\n",
    "- For the foreign gross, majority of the values are between 0 to about 30million with outliers above 100 million."
   ]
  },
  {
   "cell_type": "code",
   "execution_count": 25,
   "metadata": {},
   "outputs": [
    {
     "data": {
      "text/plain": [
       "Drama                       301\n",
       "Comedy,Drama                132\n",
       "Comedy,Drama,Romance        132\n",
       "Drama,Romance               111\n",
       "Documentary                 104\n",
       "                           ... \n",
       "Adventure,History             1\n",
       "Animation,Comedy,Crime        1\n",
       "Drama,War,Western             1\n",
       "Adventure,Fantasy,Horror      1\n",
       "Comedy,Family,Sci-Fi          1\n",
       "Name: genres, Length: 317, dtype: int64"
      ]
     },
     "execution_count": 25,
     "metadata": {},
     "output_type": "execute_result"
    }
   ],
   "source": [
    "#Groups the dataframe by genres and counts that value of every column that contains that genre\n",
    "bom_imdb['genres'].value_counts()"
   ]
  },
  {
   "cell_type": "code",
   "execution_count": 26,
   "metadata": {},
   "outputs": [
    {
     "data": {
      "image/png": "[encoded data removed]",
      "text/plain": [
       "<Figure size 720x432 with 1 Axes>"
      ]
     },
     "metadata": {
      "needs_background": "light"
     },
     "output_type": "display_data"
    }
   ],
   "source": [
    "#Count plot for the top 20 genres\n",
    "top_genres = bom_imdb['genres'].value_counts().head(20)\n",
    "\n",
    "plt.figure(figsize=(10, 6))\n",
    "plt.title('Count of Top 20 Genres')\n",
    "sns.countplot(y='genres', data=bom_imdb, order=top_genres.index,palette='deep')\n",
    "plt.xlabel('Count')\n",
    "plt.ylabel('Genres')\n",
    "plt.show()"
   ]
  },
  {
   "cell_type": "code",
   "execution_count": 27,
   "metadata": {},
   "outputs": [
    {
     "data": {
      "text/plain": [
       "genres\n",
       "Action,Adventure,Sci-Fi       11024.699999\n",
       "Adventure,Animation,Comedy     9645.132598\n",
       "Action,Adventure,Fantasy       4378.787000\n",
       "Action,Adventure,Comedy        3172.472299\n",
       "Drama                          2671.187298\n",
       "Comedy                         2357.256699\n",
       "Action,Adventure,Animation     2184.660400\n",
       "Action,Adventure,Thriller      1851.798000\n",
       "Comedy,Romance                 1848.590100\n",
       "Action,Comedy,Crime            1812.072900\n",
       "Action,Adventure,Drama         1753.572800\n",
       "Comedy,Drama                   1730.643700\n",
       "Action,Crime,Thriller          1673.852000\n",
       "Comedy,Drama,Romance           1673.456699\n",
       "Documentary                    1638.764998\n",
       "Horror,Mystery,Thriller        1484.527600\n",
       "Action,Thriller                1375.148399\n",
       "Biography,Drama,History        1275.551399\n",
       "Drama,Romance                  1042.107000\n",
       "Action,Crime,Drama             1011.920000\n",
       "Name: domestic_gross_in_million_$, dtype: float64"
      ]
     },
     "execution_count": 27,
     "metadata": {},
     "output_type": "execute_result"
    }
   ],
   "source": [
    "#Get the top 20 movies with the highest domestic gross\n",
    "total_domestic_gross = bom_imdb.groupby('genres')['domestic_gross_in_million_$'].sum().sort_values(ascending=False).head(20)\n",
    "total_domestic_gross"
   ]
  },
  {
   "cell_type": "code",
   "execution_count": 28,
   "metadata": {},
   "outputs": [
    {
     "data": {
      "image/png": "[encoded data removed]",
      "text/plain": [
       "<Figure size 720x432 with 1 Axes>"
      ]
     },
     "metadata": {
      "needs_background": "light"
     },
     "output_type": "display_data"
    }
   ],
   "source": [
    "#Plot total domestic gross revenue vs genre\n",
    "plt.figure(figsize=(10, 6))\n",
    "sns.barplot(x=total_domestic_gross.index, y=total_domestic_gross.values, palette='viridis')\n",
    "plt.xlabel('Genres')\n",
    "plt.ylabel('Total Domestic Gross Revenue (Millions)')\n",
    "plt.title('Total Domestic Gross Revenue by Genre')\n",
    "plt.xticks(rotation=45, ha='right')\n",
    "\n",
    "plt.tight_layout()\n",
    "plt.show()"
   ]
  },
  {
   "cell_type": "code",
   "execution_count": 29,
   "metadata": {},
   "outputs": [
    {
     "data": {
      "text/plain": [
       "genres\n",
       "Adventure,Animation,Comedy    18025.799999\n",
       "Action,Adventure,Sci-Fi       16632.602389\n",
       "Action,Adventure,Fantasy       8936.100000\n",
       "Drama                          7042.662198\n",
       "Action,Adventure,Comedy        6642.600000\n",
       "Action,Adventure,Thriller      4769.500000\n",
       "Action,Adventure,Animation     4375.500000\n",
       "Action,Adventure,Drama         3754.531999\n",
       "Comedy                         3233.573500\n",
       "Documentary                    3126.483400\n",
       "Comedy,Drama,Romance           3081.209599\n",
       "Comedy,Drama                   2762.885100\n",
       "Drama,Romance                  2599.209499\n",
       "Action,Thriller                2593.900000\n",
       "Action,Drama,Thriller          2324.155000\n",
       "Comedy,Romance                 2288.871999\n",
       "Adventure,Family,Fantasy       2156.400000\n",
       "Action,Crime,Thriller          2009.302173\n",
       "Horror,Mystery,Thriller        1863.900000\n",
       "Horror                         1682.505200\n",
       "Name: foreign_gross_in_million_$, dtype: float64"
      ]
     },
     "execution_count": 29,
     "metadata": {},
     "output_type": "execute_result"
    }
   ],
   "source": [
    "#Get the top 20 movies with the highest foreign gross\n",
    "total_foreign_gross = bom_imdb.groupby('genres')['foreign_gross_in_million_$'].sum().sort_values(ascending=False).head(20)\n",
    "total_foreign_gross"
   ]
  },
  {
   "cell_type": "code",
   "execution_count": 30,
   "metadata": {},
   "outputs": [
    {
     "data": {
      "image/png": "[encoded data removed]",
      "text/plain": [
       "<Figure size 720x432 with 1 Axes>"
      ]
     },
     "metadata": {
      "needs_background": "light"
     },
     "output_type": "display_data"
    }
   ],
   "source": [
    "#Plot total foreign gross revenue vs genre\n",
    "plt.figure(figsize=(10, 6))\n",
    "sns.barplot(x=total_foreign_gross.index, y=total_foreign_gross.values, palette='viridis')\n",
    "plt.xlabel('Genres')\n",
    "plt.ylabel('Total Foreign Gross Revenue (Millions)')\n",
    "plt.title('Total Foreign Gross Revenue by Genre')\n",
    "plt.xticks(rotation=45, ha='right')\n",
    "\n",
    "plt.tight_layout()\n",
    "plt.show()"
   ]
  },
  {
   "cell_type": "markdown",
   "metadata": {},
   "source": [
    "In the above plots the film that have the highest total domestic gross revenue in millions are:\n",
    "- Action, Adventure, Sci-Fi films with about 11000 million in total gross domestic revenue\n",
    "- Adventure, Animation, Comedy films about 9000 million in total gross domestic revenue\n",
    "\n",
    "The genres that have the highest total foreign gross revenue in millions are:\n",
    "- Adventure, Animation, Comedy films with about 19000 million in total gross foreign revenue\n",
    "- Action, Adventure, Sci-Fi movies have a total gross of about 16000 million in total foreign gross revenue."
   ]
  },
  {
   "cell_type": "code",
   "execution_count": 31,
   "metadata": {},
   "outputs": [
    {
     "data": {
      "text/plain": [
       "genres\n",
       "Adventure,Animation,Comedy    27670.932597\n",
       "Action,Adventure,Sci-Fi       27657.302388\n",
       "Action,Adventure,Fantasy      13314.887000\n",
       "Action,Adventure,Comedy        9815.072299\n",
       "Drama                          9713.849496\n",
       "Action,Adventure,Thriller      6621.298000\n",
       "Action,Adventure,Animation     6560.160400\n",
       "Comedy                         5590.830199\n",
       "Action,Adventure,Drama         5508.104799\n",
       "Documentary                    4765.248398\n",
       "Comedy,Drama,Romance           4754.666298\n",
       "Comedy,Drama                   4493.528800\n",
       "Comedy,Romance                 4137.462099\n",
       "Action,Thriller                3969.048399\n",
       "Action,Crime,Thriller          3683.154173\n",
       "Drama,Romance                  3641.316499\n",
       "Action,Comedy,Crime            3425.341900\n",
       "Horror,Mystery,Thriller        3348.427600\n",
       "Adventure,Family,Fantasy       3079.900000\n",
       "Biography,Drama,History        2859.559399\n",
       "Name: total_gross_million_$, dtype: float64"
      ]
     },
     "execution_count": 31,
     "metadata": {},
     "output_type": "execute_result"
    }
   ],
   "source": [
    "#Compare the total gross - domestic + foreign across each genre\n",
    "bom_imdb['total_gross_million_$'] = bom_imdb['domestic_gross_in_million_$'] + bom_imdb['foreign_gross_in_million_$']\n",
    "total_gross = bom_imdb.groupby('genres')['total_gross_million_$'].sum().sort_values(ascending=False).head(20)\n",
    "total_gross"
   ]
  },
  {
   "cell_type": "code",
   "execution_count": 32,
   "metadata": {},
   "outputs": [
    {
     "data": {
      "image/png": "[encoded data removed]",
      "text/plain": [
       "<Figure size 720x432 with 1 Axes>"
      ]
     },
     "metadata": {
      "needs_background": "light"
     },
     "output_type": "display_data"
    }
   ],
   "source": [
    "plt.figure(figsize=(10, 6))\n",
    "sns.barplot(x=total_gross.index, y=total_gross.values,palette='viridis')\n",
    "plt.xlabel('Genres')\n",
    "plt.ylabel('Total Gross Revenue (Millions)')\n",
    "plt.title('Total Gross Revenue by Genre')\n",
    "plt.xticks(rotation=45, ha='right')\n",
    "plt.tight_layout()\n",
    "plt.show()"
   ]
  },
  {
   "cell_type": "markdown",
   "metadata": {},
   "source": [
    "For the above plot, we added both the domestic and foreign gross to look at the total gross of each film. Similarly, movies with the genre Adventure, Animation, Comedy as well as Action, Adventure, Sci-Fi have the highest total gross (domestic + foreign) with about 27000 million."
   ]
  },
  {
   "cell_type": "code",
   "execution_count": 33,
   "metadata": {},
   "outputs": [],
   "source": [
    "#Compare number of votes vs movie genres\n",
    "top_20_movies_votes = bom_imdb.nlargest(20,'numvotes_thosands')"
   ]
  },
  {
   "cell_type": "code",
   "execution_count": 34,
   "metadata": {},
   "outputs": [],
   "source": [
    "#Compare runtime minutes to ratings\n",
    "top_20_movies_rating = bom_imdb.nlargest(20,'averagerating')"
   ]
  },
  {
   "cell_type": "code",
   "execution_count": 35,
   "metadata": {},
   "outputs": [],
   "source": [
    "def compare_movies_by_genre(data, x_column, y_column, hue_column, plot_type='bar', dodge=False):\n",
    "    plt.figure(figsize=(10, 6))\n",
    "    \n",
    "    if plot_type == 'bar':\n",
    "        sns.barplot(data=data, x=x_column, y=y_column, hue=hue_column, palette='deep', dodge=dodge)\n",
    "    elif plot_type == 'scatter':\n",
    "        sns.scatterplot(data=data, x=x_column, y=y_column, hue=hue_column, palette='deep')\n",
    "    \n",
    "    plt.xlabel(x_column.replace('_', ' ').capitalize())\n",
    "    plt.ylabel(y_column.replace('_', ' ').capitalize())\n",
    "    plt.title(f'{x_column.replace(\"_\", \" \").capitalize()} vs {y_column.replace(\"_\", \" \").capitalize()}')\n",
    "    plt.legend(title='Genres', bbox_to_anchor=(1.05, 1), loc='upper left')\n",
    "    plt.tight_layout()\n",
    "    plt.show()\n"
   ]
  },
  {
   "cell_type": "code",
   "execution_count": 36,
   "metadata": {},
   "outputs": [
    {
     "data": {
      "image/png": "[encoded data removed]",
      "text/plain": [
       "<Figure size 720x432 with 1 Axes>"
      ]
     },
     "metadata": {
      "needs_background": "light"
     },
     "output_type": "display_data"
    }
   ],
   "source": [
    "compare_movies_by_genre(top_20_movies_votes, 'numvotes_thosands', 'primary_title', 'genres', plot_type='bar', dodge=False)"
   ]
  },
  {
   "cell_type": "markdown",
   "metadata": {},
   "source": [
    "In the above plot, the film that has the most number of votes belong to the Action,Adventure,Sci-Fi genre with about 1.8 million votes is Inception, followed by The Dark Knight Rises which belongs to the Action,Thriller genre with about 1.3 million votes and third is Interstellar which belongs to the Adventure,Drama,Sci-Fi genre with about 1.25 million votes."
   ]
  },
  {
   "cell_type": "code",
   "execution_count": 37,
   "metadata": {},
   "outputs": [
    {
     "data": {
      "image/png": "[encoded data removed]",
      "text/plain": [
       "<Figure size 720x432 with 1 Axes>"
      ]
     },
     "metadata": {
      "needs_background": "light"
     },
     "output_type": "display_data"
    }
   ],
   "source": [
    "compare_movies_by_genre(top_20_movies_rating, 'runtime_minutes', 'averagerating', 'genres', plot_type='scatter')"
   ]
  },
  {
   "cell_type": "markdown",
   "metadata": {},
   "source": [
    "In the above, films that have runtime minutes of between 70-120 have the highest average rating. These high rated films have the genre combinations of adventure, documentary, drama and comedy,documentary,drama."
   ]
  },
  {
   "cell_type": "markdown",
   "metadata": {},
   "source": [
    "## Conclusions\n",
    "This analysis yields the following recommedations for Microsoft:\n",
    "\n",
    "- The movie combinations of Action,Adventure,Sci-Fi and Adventure,Animation,Comedy do very well in both domestic and foreign markets. These film combinations also have high total gross revenues that is domestic plus foreign revenues. Microsoft can consider making movies with the above combinations. \n",
    "\n",
    "- Action,Adenture,Sci-Fi movie combinations along with Action,Thriller and Adventure,Drama,Sci-Fi moves have the highest number of votes. The films coupled with these genres: Inception, The Dark Knight Rises and Interstellar can serve as good points to borrow ideas on what movies to make. Additionally, Microsoft can consider making sequels to these movies as a start.\n",
    "\n",
    "- Microsoft should make movies with a runtime of between 70 and 120 minutes as these types of movies recieved the highest ratings. Additionally, the genres that recieved the highest rating had a watch time of the above and were the following genres: Adventure, Documentary, Drama.\n",
    "\n",
    "- Any movies incooperated with adventure tend to do well in the box office as well as with viewers.\n"
   ]
  },
  {
   "cell_type": "markdown",
   "metadata": {},
   "source": [
    "### Next Steps\n",
    "- In order to produce a more robust analysis and further insights additional datasets may be added in order to look into other factors that may influence the domestic and foreign gross as well as other variables. This can be information about specific actors or directors that influence viewers to watch a particular movie.\n",
    "\n",
    "- Perform analysis based on the years e.g, what movies performed well in 2010 and use predictive modelling to see what movie genres can perform well in following years."
   ]
  }
 ],
 "metadata": {
  "kernelspec": {
   "display_name": "Python (learn-env)",
   "language": "python",
   "name": "learn-env"
  },
  "language_info": {
   "codemirror_mode": {
    "name": "ipython",
    "version": 3
   },
   "file_extension": ".py",
   "mimetype": "text/x-python",
   "name": "python",
   "nbconvert_exporter": "python",
   "pygments_lexer": "ipython3",
   "version": "3.8.5"
  }
 },
 "nbformat": 4,
 "nbformat_minor": 2
}
